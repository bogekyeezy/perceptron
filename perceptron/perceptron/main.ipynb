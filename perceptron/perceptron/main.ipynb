{
 "cells": [
  {
   "cell_type": "code",
   "execution_count": 45,
   "metadata": {},
   "outputs": [],
   "source": [
    "import pandas as pd"
   ]
  },
  {
   "cell_type": "code",
   "execution_count": 46,
   "metadata": {},
   "outputs": [
    {
     "data": {
      "text/html": [
       "<div>\n",
       "<style scoped>\n",
       "    .dataframe tbody tr th:only-of-type {\n",
       "        vertical-align: middle;\n",
       "    }\n",
       "\n",
       "    .dataframe tbody tr th {\n",
       "        vertical-align: top;\n",
       "    }\n",
       "\n",
       "    .dataframe thead th {\n",
       "        text-align: right;\n",
       "    }\n",
       "</style>\n",
       "<table border=\"1\" class=\"dataframe\">\n",
       "  <thead>\n",
       "    <tr style=\"text-align: right;\">\n",
       "      <th></th>\n",
       "      <th>game_id</th>\n",
       "      <th>episode</th>\n",
       "      <th>act</th>\n",
       "      <th>rank</th>\n",
       "      <th>date</th>\n",
       "      <th>agent</th>\n",
       "      <th>map</th>\n",
       "      <th>outcome</th>\n",
       "      <th>round_wins</th>\n",
       "      <th>round_losses</th>\n",
       "      <th>kills</th>\n",
       "      <th>deaths</th>\n",
       "      <th>assists</th>\n",
       "      <th>kdr</th>\n",
       "      <th>avg_dmg_delta</th>\n",
       "      <th>headshot_pct</th>\n",
       "      <th>avg_dmg</th>\n",
       "      <th>acs</th>\n",
       "      <th>num_frag</th>\n",
       "    </tr>\n",
       "  </thead>\n",
       "  <tbody>\n",
       "    <tr>\n",
       "      <th>0</th>\n",
       "      <td>1</td>\n",
       "      <td>6</td>\n",
       "      <td>2</td>\n",
       "      <td>Placement</td>\n",
       "      <td>04/11/2023</td>\n",
       "      <td>Cypher</td>\n",
       "      <td>Ascent</td>\n",
       "      <td>Loss</td>\n",
       "      <td>5</td>\n",
       "      <td>13</td>\n",
       "      <td>8</td>\n",
       "      <td>15</td>\n",
       "      <td>4</td>\n",
       "      <td>0.5</td>\n",
       "      <td>-61</td>\n",
       "      <td>3</td>\n",
       "      <td>76</td>\n",
       "      <td>125</td>\n",
       "      <td>3</td>\n",
       "    </tr>\n",
       "    <tr>\n",
       "      <th>1</th>\n",
       "      <td>2</td>\n",
       "      <td>6</td>\n",
       "      <td>2</td>\n",
       "      <td>Placement</td>\n",
       "      <td>04/12/2023</td>\n",
       "      <td>Cypher</td>\n",
       "      <td>Icebox</td>\n",
       "      <td>Loss</td>\n",
       "      <td>4</td>\n",
       "      <td>13</td>\n",
       "      <td>3</td>\n",
       "      <td>15</td>\n",
       "      <td>2</td>\n",
       "      <td>0.2</td>\n",
       "      <td>-124</td>\n",
       "      <td>22</td>\n",
       "      <td>42</td>\n",
       "      <td>59</td>\n",
       "      <td>5</td>\n",
       "    </tr>\n",
       "    <tr>\n",
       "      <th>2</th>\n",
       "      <td>3</td>\n",
       "      <td>6</td>\n",
       "      <td>2</td>\n",
       "      <td>Placement</td>\n",
       "      <td>4/15/2023</td>\n",
       "      <td>KAY/O</td>\n",
       "      <td>Lotus</td>\n",
       "      <td>Win</td>\n",
       "      <td>13</td>\n",
       "      <td>4</td>\n",
       "      <td>7</td>\n",
       "      <td>12</td>\n",
       "      <td>7</td>\n",
       "      <td>0.6</td>\n",
       "      <td>-46</td>\n",
       "      <td>2</td>\n",
       "      <td>87</td>\n",
       "      <td>132</td>\n",
       "      <td>5</td>\n",
       "    </tr>\n",
       "    <tr>\n",
       "      <th>3</th>\n",
       "      <td>4</td>\n",
       "      <td>6</td>\n",
       "      <td>2</td>\n",
       "      <td>Placement</td>\n",
       "      <td>4/15/2023</td>\n",
       "      <td>Brimstone</td>\n",
       "      <td>Ascent</td>\n",
       "      <td>Loss</td>\n",
       "      <td>9</td>\n",
       "      <td>13</td>\n",
       "      <td>18</td>\n",
       "      <td>12</td>\n",
       "      <td>10</td>\n",
       "      <td>1.5</td>\n",
       "      <td>23</td>\n",
       "      <td>14</td>\n",
       "      <td>137</td>\n",
       "      <td>230</td>\n",
       "      <td>2</td>\n",
       "    </tr>\n",
       "    <tr>\n",
       "      <th>4</th>\n",
       "      <td>5</td>\n",
       "      <td>6</td>\n",
       "      <td>2</td>\n",
       "      <td>Placement</td>\n",
       "      <td>4/15/2023</td>\n",
       "      <td>Cypher</td>\n",
       "      <td>Haven</td>\n",
       "      <td>Loss</td>\n",
       "      <td>1</td>\n",
       "      <td>13</td>\n",
       "      <td>6</td>\n",
       "      <td>14</td>\n",
       "      <td>3</td>\n",
       "      <td>0.4</td>\n",
       "      <td>-75</td>\n",
       "      <td>7</td>\n",
       "      <td>90</td>\n",
       "      <td>146</td>\n",
       "      <td>4</td>\n",
       "    </tr>\n",
       "  </tbody>\n",
       "</table>\n",
       "</div>"
      ],
      "text/plain": [
       "   game_id  episode  act       rank        date      agent     map outcome  \\\n",
       "0        1        6    2  Placement  04/11/2023     Cypher  Ascent    Loss   \n",
       "1        2        6    2  Placement  04/12/2023     Cypher  Icebox    Loss   \n",
       "2        3        6    2  Placement   4/15/2023      KAY/O   Lotus     Win   \n",
       "3        4        6    2  Placement   4/15/2023  Brimstone  Ascent    Loss   \n",
       "4        5        6    2  Placement   4/15/2023     Cypher   Haven    Loss   \n",
       "\n",
       "   round_wins  round_losses  kills  deaths  assists  kdr  avg_dmg_delta  \\\n",
       "0           5            13      8      15        4  0.5            -61   \n",
       "1           4            13      3      15        2  0.2           -124   \n",
       "2          13             4      7      12        7  0.6            -46   \n",
       "3           9            13     18      12       10  1.5             23   \n",
       "4           1            13      6      14        3  0.4            -75   \n",
       "\n",
       "   headshot_pct  avg_dmg  acs  num_frag  \n",
       "0             3       76  125         3  \n",
       "1            22       42   59         5  \n",
       "2             2       87  132         5  \n",
       "3            14      137  230         2  \n",
       "4             7       90  146         4  "
      ]
     },
     "execution_count": 46,
     "metadata": {},
     "output_type": "execute_result"
    }
   ],
   "source": [
    "df = pd.read_csv('valorant_match_clsfc.csv')\n",
    "df.head()"
   ]
  },
  {
   "cell_type": "code",
   "execution_count": 47,
   "metadata": {},
   "outputs": [
    {
     "data": {
      "text/plain": [
       "(1000, 19)"
      ]
     },
     "execution_count": 47,
     "metadata": {},
     "output_type": "execute_result"
    }
   ],
   "source": [
    "df.shape"
   ]
  },
  {
   "cell_type": "code",
   "execution_count": 48,
   "metadata": {},
   "outputs": [
    {
     "data": {
      "text/plain": [
       "game_id          0\n",
       "episode          0\n",
       "act              0\n",
       "rank             0\n",
       "date             0\n",
       "agent            0\n",
       "map              0\n",
       "outcome          0\n",
       "round_wins       0\n",
       "round_losses     0\n",
       "kills            0\n",
       "deaths           0\n",
       "assists          0\n",
       "kdr              0\n",
       "avg_dmg_delta    0\n",
       "headshot_pct     0\n",
       "avg_dmg          0\n",
       "acs              0\n",
       "num_frag         0\n",
       "dtype: int64"
      ]
     },
     "execution_count": 48,
     "metadata": {},
     "output_type": "execute_result"
    }
   ],
   "source": [
    "df.isnull().sum()"
   ]
  },
  {
   "cell_type": "code",
   "execution_count": 49,
   "metadata": {},
   "outputs": [],
   "source": [
    "features = df.drop(columns=['game_id',\"episode\",'act','rank','date','agent','map','outcome'])\n",
    "target = df['outcome']"
   ]
  },
  {
   "cell_type": "code",
   "execution_count": 50,
   "metadata": {},
   "outputs": [
    {
     "data": {
      "text/html": [
       "<div>\n",
       "<style scoped>\n",
       "    .dataframe tbody tr th:only-of-type {\n",
       "        vertical-align: middle;\n",
       "    }\n",
       "\n",
       "    .dataframe tbody tr th {\n",
       "        vertical-align: top;\n",
       "    }\n",
       "\n",
       "    .dataframe thead th {\n",
       "        text-align: right;\n",
       "    }\n",
       "</style>\n",
       "<table border=\"1\" class=\"dataframe\">\n",
       "  <thead>\n",
       "    <tr style=\"text-align: right;\">\n",
       "      <th></th>\n",
       "      <th>outcome</th>\n",
       "    </tr>\n",
       "  </thead>\n",
       "  <tbody>\n",
       "    <tr>\n",
       "      <th>0</th>\n",
       "      <td>0</td>\n",
       "    </tr>\n",
       "    <tr>\n",
       "      <th>1</th>\n",
       "      <td>0</td>\n",
       "    </tr>\n",
       "    <tr>\n",
       "      <th>2</th>\n",
       "      <td>1</td>\n",
       "    </tr>\n",
       "    <tr>\n",
       "      <th>3</th>\n",
       "      <td>0</td>\n",
       "    </tr>\n",
       "    <tr>\n",
       "      <th>4</th>\n",
       "      <td>0</td>\n",
       "    </tr>\n",
       "    <tr>\n",
       "      <th>...</th>\n",
       "      <td>...</td>\n",
       "    </tr>\n",
       "    <tr>\n",
       "      <th>995</th>\n",
       "      <td>1</td>\n",
       "    </tr>\n",
       "    <tr>\n",
       "      <th>996</th>\n",
       "      <td>0</td>\n",
       "    </tr>\n",
       "    <tr>\n",
       "      <th>997</th>\n",
       "      <td>0</td>\n",
       "    </tr>\n",
       "    <tr>\n",
       "      <th>998</th>\n",
       "      <td>1</td>\n",
       "    </tr>\n",
       "    <tr>\n",
       "      <th>999</th>\n",
       "      <td>0</td>\n",
       "    </tr>\n",
       "  </tbody>\n",
       "</table>\n",
       "<p>1000 rows × 1 columns</p>\n",
       "</div>"
      ],
      "text/plain": [
       "     outcome\n",
       "0          0\n",
       "1          0\n",
       "2          1\n",
       "3          0\n",
       "4          0\n",
       "..       ...\n",
       "995        1\n",
       "996        0\n",
       "997        0\n",
       "998        1\n",
       "999        0\n",
       "\n",
       "[1000 rows x 1 columns]"
      ]
     },
     "execution_count": 50,
     "metadata": {},
     "output_type": "execute_result"
    }
   ],
   "source": [
    "from sklearn.preprocessing import LabelEncoder\n",
    "\n",
    "encoder = LabelEncoder()\n",
    "target = encoder.fit_transform(df['outcome'])\n",
    "target = pd.DataFrame(target,columns=['outcome'])\n",
    "target"
   ]
  },
  {
   "cell_type": "code",
   "execution_count": 51,
   "metadata": {},
   "outputs": [],
   "source": [
    "X = features\n",
    "y = target"
   ]
  },
  {
   "cell_type": "code",
   "execution_count": 52,
   "metadata": {},
   "outputs": [],
   "source": [
    "from sklearn.model_selection import train_test_split\n",
    "\n",
    "X_train, X_test, y_train, y_test = train_test_split(X, y, test_size=0.3, random_state=24)"
   ]
  },
  {
   "cell_type": "code",
   "execution_count": 53,
   "metadata": {},
   "outputs": [
    {
     "name": "stderr",
     "output_type": "stream",
     "text": [
      "/home/dapek/.local/lib/python3.10/site-packages/sklearn/utils/validation.py:1183: DataConversionWarning: A column-vector y was passed when a 1d array was expected. Please change the shape of y to (n_samples, ), for example using ravel().\n",
      "  y = column_or_1d(y, warn=True)\n"
     ]
    }
   ],
   "source": [
    "from sklearn.linear_model import Perceptron\n",
    "perceptron = Perceptron(random_state=24)\n",
    "perceptron.fit(X_train, y_train)\n",
    "y_pred = perceptron.predict(X_test)"
   ]
  },
  {
   "cell_type": "code",
   "execution_count": 54,
   "metadata": {},
   "outputs": [
    {
     "data": {
      "text/plain": [
       "0.9833333333333333"
      ]
     },
     "execution_count": 54,
     "metadata": {},
     "output_type": "execute_result"
    }
   ],
   "source": [
    "from sklearn.metrics import accuracy_score, classification_report\n",
    "accuracy = accuracy_score(y_test, y_pred)\n",
    "classification_rep = classification_report(y_test, y_pred, target_names=encoder.classes_)\n",
    "accuracy"
   ]
  },
  {
   "cell_type": "code",
   "execution_count": 55,
   "metadata": {},
   "outputs": [
    {
     "name": "stdout",
     "output_type": "stream",
     "text": [
      "\n",
      "Laporan Klasifikasi:\n",
      "               precision    recall  f1-score   support\n",
      "\n",
      "        Loss       0.99      0.97      0.98       140\n",
      "         Win       0.98      0.99      0.98       160\n",
      "\n",
      "    accuracy                           0.98       300\n",
      "   macro avg       0.98      0.98      0.98       300\n",
      "weighted avg       0.98      0.98      0.98       300\n",
      "\n"
     ]
    }
   ],
   "source": [
    "print(\"\\nLaporan Klasifikasi:\\n\", classification_rep)"
   ]
  },
  {
   "cell_type": "code",
   "execution_count": 56,
   "metadata": {},
   "outputs": [
    {
     "name": "stderr",
     "output_type": "stream",
     "text": [
      "/home/dapek/.local/lib/python3.10/site-packages/sklearn/preprocessing/_label.py:153: DataConversionWarning: A column-vector y was passed when a 1d array was expected. Please change the shape of y to (n_samples, ), for example using ravel().\n",
      "  y = column_or_1d(y, warn=True)\n"
     ]
    }
   ],
   "source": [
    "results = pd.DataFrame({\n",
    "    'Actual': encoder.inverse_transform(y_test),\n",
    "    'Predicted': encoder.inverse_transform(y_pred)\n",
    "})\n",
    "results.to_csv('perceptron_results.csv', index=False)"
   ]
  },
  {
   "cell_type": "code",
   "execution_count": null,
   "metadata": {},
   "outputs": [],
   "source": []
  }
 ],
 "metadata": {
  "kernelspec": {
   "display_name": "Python 3",
   "language": "python",
   "name": "python3"
  },
  "language_info": {
   "codemirror_mode": {
    "name": "ipython",
    "version": 3
   },
   "file_extension": ".py",
   "mimetype": "text/x-python",
   "name": "python",
   "nbconvert_exporter": "python",
   "pygments_lexer": "ipython3",
   "version": "3.10.12"
  }
 },
 "nbformat": 4,
 "nbformat_minor": 2
}
